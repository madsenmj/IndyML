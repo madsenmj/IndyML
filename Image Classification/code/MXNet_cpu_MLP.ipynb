{
 "cells": [
  {
   "cell_type": "markdown",
   "metadata": {
    "deletable": true,
    "editable": true
   },
   "source": [
    "# Batch Processing Error Detection\n",
    "\n",
    "Original data from:\n",
    "\n",
    "https://kuleuven.app.box.com/v/batchbenchmark/4/3864480711\n",
    "\n",
    "Data downloaded from:\n",
    "https://kuleuven.app.box.com/v/batchbenchmark/4/3864480711\n",
    "\n",
    "Data explanation in:\n",
    "simulated_data_paper.pdf\n",
    "\n",
    "An extensive reference dataset for fault detection and identification in batch processes\n",
    "\n",
    "Chemometrics and Intelligent Laboratory Systems\n",
    "Volume 148, 15 November 2015, Pages 20–31\n",
    "\n",
    "Jan Van Impe, Geert Gins (2015), An Extensive Reference Data Set for Fault Detection and Isolation in Batch Processes. (accepted for publication in Chemometrics & Intelligent Laboratory Systems).\n"
   ]
  },
  {
   "cell_type": "markdown",
   "metadata": {
    "deletable": true,
    "editable": true
   },
   "source": [
    "## Import and explore file structure"
   ]
  },
  {
   "cell_type": "code",
   "execution_count": 1,
   "metadata": {
    "collapsed": false,
    "deletable": true,
    "editable": true
   },
   "outputs": [],
   "source": [
    "import h5py\n",
    "import numpy as np\n",
    "import matplotlib.pyplot as plt\n",
    "%matplotlib inline\n"
   ]
  },
  {
   "cell_type": "markdown",
   "metadata": {
    "deletable": true,
    "editable": true
   },
   "source": [
    "Looking first at the measurement data.\n",
    "\n",
    "The measurements available are:\n",
    "\n",
    "![data](offline_data.png)\n",
    "\n",
    "with online data:\n",
    "\n",
    "![data](online_data.png)"
   ]
  },
  {
   "cell_type": "code",
   "execution_count": 2,
   "metadata": {
    "collapsed": false,
    "deletable": true,
    "editable": true
   },
   "outputs": [
    {
     "name": "stdout",
     "output_type": "stream",
     "text": [
      "Var 0 : Time\n",
      "Var 1 : Fermentation volume\n",
      "Var 2 : Biomass concentration\n",
      "Var 3 : Substrate concentration\n",
      "Var 4 : Penicillin concentration\n",
      "Var 5 : Dissolved oxygen concentration\n",
      "Var 6 : Dissolved CO2 concentration\n",
      "Var 7 : Reactor temperature\n",
      "Var 8 : pH\n",
      "Var 9 : Reaction heat\n",
      "Var 10 : Feed rate\n",
      "Var 11 : Feed substrate concentration\n",
      "Var 12 : Feed temperature\n",
      "Var 13 : Aeration rate\n",
      "Var 14 : Agitator power\n",
      "Var 15 : Cooling/heating medium flow rate\n",
      "Var 16 : Cooling medium temperature\n",
      "Var 17 : Heating medium temperature\n",
      "Var 18 : Hot/cold switch\n",
      "Var 19 : Base flow\n",
      "Var 20 : Acid flow\n",
      "Var 21 : Cumulative base flow\n",
      "Var 22 : Cumulative acid flow\n",
      "Var 23 : True penicillin concentration\n"
     ]
    }
   ],
   "source": [
    "filepath = 'Aligned_set_1_BASE_NOC/Aligned_set_1_BASE_NOC.mat'\n",
    "f=h5py.File(filepath, 'r')\n",
    "for k in range(24):\n",
    "    st=f[\"/MeasurementsTags\"][0][k]\n",
    "    obj = f[st]\n",
    "    str1 = ''.join(chr(i) for i in obj[:])\n",
    "    print('Var', k, ':', str1 )"
   ]
  },
  {
   "cell_type": "markdown",
   "metadata": {
    "collapsed": true,
    "deletable": true,
    "editable": true
   },
   "source": [
    "# Data With Faults\n",
    "The faults look like this:\n",
    "\n",
    "![fault](faults.png)"
   ]
  },
  {
   "cell_type": "markdown",
   "metadata": {
    "deletable": true,
    "editable": true
   },
   "source": [
    "Variables to use (online monitoring):\n",
    "0, 1, 5, 6, 7, 8, 10, 12, 14, 15, 19, 20\n",
    "\n",
    "Subsetting, normalizing, and image-generation"
   ]
  },
  {
   "cell_type": "code",
   "execution_count": 3,
   "metadata": {
    "collapsed": false,
    "deletable": true,
    "editable": true
   },
   "outputs": [],
   "source": [
    "def normMatrices(matrix, avgmatrix, stdmatrix, maxextent):\n",
    "    \n",
    "    normed_matrices = np.divide(np.add(matrix,-avgmatrix[:,:,np.newaxis]),stdmatrix[:,:,np.newaxis])\n",
    "    normed_matrices = np.clip(normed_matrices,-maxextent,maxextent)\n",
    "    normed_matrices = (normed_matrices + maxextent)/(2*maxextent)\n",
    "    normed_matrices = np.swapaxes(normed_matrices,0,2)\n",
    "    return normed_matrices\n",
    "\n",
    "\n",
    "def getData(faultNums,\n",
    "            onlinevars = [ 1, 5, 6, 7, 8, 10, 12, 14, 15, 19, 20],\n",
    "            maxextent =3):\n",
    "\n",
    "    \n",
    "    # First get golden data\n",
    "    filepath = 'Aligned_set_1_BASE_NOC/Aligned_set_1_BASE_NOC.mat'\n",
    "    g=h5py.File(filepath, 'r')\n",
    "    \n",
    "    # get the metric against which to measure\n",
    "    avgmatrix = np.mean(g[\"/Measurements\"][:,onlinevars,:],axis=2)\n",
    "    stdmatrix = np.std(g[\"/Measurements\"][:,onlinevars,:],axis=2)\n",
    "    stdmatrix = np.std(stdmatrix,axis=0)+stdmatrix #offset the standard deviation by a little so we don't run into zeros\n",
    "\n",
    "    outputMat = normMatrices(g[\"/Measurements\"][:,onlinevars,:],avgmatrix,stdmatrix,maxextent)\n",
    "    outputLab = np.zeros(outputMat.shape[0])\n",
    "    \n",
    "\n",
    "    ifault = 1\n",
    "    for faultNum in faultNums:\n",
    "        filepath = 'Aligned_set_1_BASE_fault_{0}/Aligned_set_1_BASE_fault_{0}.mat'.format(faultNum)\n",
    "        f = h5py.File(filepath, 'r')\n",
    "        newMat = normMatrices(f[\"/Measurements\"][:,onlinevars,:],avgmatrix,stdmatrix,maxextent)\n",
    "        outputMat=np.append(outputMat,newMat,axis=0)\n",
    "        outputLab = np.append(outputLab,np.ones(newMat.shape[0])*ifault )\n",
    "        ifault += 1\n",
    "        \n",
    "    return outputMat,outputLab\n",
    "allmat,label = getData([])    "
   ]
  },
  {
   "cell_type": "code",
   "execution_count": 4,
   "metadata": {
    "collapsed": false
   },
   "outputs": [
    {
     "data": {
      "text/plain": [
       "(400, 11, 1201)"
      ]
     },
     "execution_count": 4,
     "metadata": {},
     "output_type": "execute_result"
    }
   ],
   "source": [
    "allmat.shape"
   ]
  },
  {
   "cell_type": "code",
   "execution_count": 7,
   "metadata": {
    "collapsed": false,
    "deletable": true,
    "editable": true
   },
   "outputs": [
    {
     "data": {
      "text/plain": [
       "<matplotlib.colorbar.Colorbar at 0x1ce0175f9b0>"
      ]
     },
     "execution_count": 7,
     "metadata": {},
     "output_type": "execute_result"
    },
    {
     "data": {
      "image/png": "[encoded data removed]",
      "text/plain": [
       "<matplotlib.figure.Figure at 0x1ce7a5cfb38>"
      ]
     },
     "metadata": {},
     "output_type": "display_data"
    }
   ],
   "source": [
    "index = 23\n",
    "\n",
    "plt.subplot(1,2,1)\n",
    "\n",
    "plt.pcolor(allmat[index], cmap='gray')\n",
    "plt.title(\"Label: %d \" %label[index])\n",
    "plt.axis('off')\n",
    "plt.subplot(1,2,2)\n",
    "p1=plt.pcolor(allmat[index+240], cmap='gray')\n",
    "plt.title(\"Label: %d \" %label[index+240])\n",
    "#plt.colorbar()\n",
    "#plt.axes().set_aspect(maxstep/24)\n",
    "plt.axis('off')\n",
    "cax = plt.gcf().add_axes([.95, 0.1, 0.03, 0.8])\n",
    "plt.gcf().colorbar(p1, cax=cax)\n"
   ]
  },
  {
   "cell_type": "markdown",
   "metadata": {
    "deletable": true,
    "editable": true
   },
   "source": [
    "Next we create data iterators. The data iterator, which is similar the iterator, returns a batch of data in each next() call. A batch contains several images with its according labels. These images are stored in a 4-D matrix with shape (batch_size, num_channels, width, height). In addition, we often shuffle the images used for training, which accelerates the training progress."
   ]
  },
  {
   "cell_type": "code",
   "execution_count": 326,
   "metadata": {
    "collapsed": false,
    "deletable": true,
    "editable": true
   },
   "outputs": [],
   "source": [
    "import mxnet as mx\n",
    "\n",
    "# First, shuffle the data\n",
    "shuffle = np.random.rand(allmat.shape[0]).argsort()\n",
    "datarand = np.take(allmat,shuffle,axis=0)\n",
    "labelrand = np.take(label,shuffle)\n",
    "\n",
    "ntrain = int(allmat.shape[0]*0.8)\n",
    "train_features = datarand[:ntrain, :]\n",
    "train_labels = labelrand[:ntrain]\n",
    "test_features = datarand[ntrain:, :]\n",
    "test_labels = labelrand[ntrain:]\n",
    "\n",
    "def to4d(img):\n",
    "    if(len(img.shape) == 3):\n",
    "        return img.reshape(img.shape[0], 1, img.shape[1], img.shape[2]).astype(np.float32)\n",
    "    else:\n",
    "        return img.reshape(1, 1, img.shape[0], img.shape[1]).astype(np.float32)\n",
    "\n",
    "batch_size=100\n",
    "train_iter = mx.io.NDArrayIter(to4d(train_features),train_labels , batch_size, shuffle=True)\n",
    "val_iter = mx.io.NDArrayIter(to4d(test_features),test_labels , batch_size)"
   ]
  },
  {
   "cell_type": "markdown",
   "metadata": {
    "deletable": true,
    "editable": true
   },
   "source": [
    "## Multilayer Perceptron"
   ]
  },
  {
   "cell_type": "code",
   "execution_count": 332,
   "metadata": {
    "collapsed": false,
    "deletable": true,
    "editable": true
   },
   "outputs": [
    {
     "data": {
      "image/svg+xml": [
       "<?xml version=\"1.0\" encoding=\"UTF-8\" standalone=\"no\"?>\n",
       "<!DOCTYPE svg PUBLIC \"-//W3C//DTD SVG 1.1//EN\"\n",
       " \"http://www.w3.org/Graphics/SVG/1.1/DTD/svg11.dtd\">\n",
       "<!-- Generated by graphviz version 2.38.0 (20140413.2041)\n",
       " -->\n",
       "<!-- Title: plot Pages: 1 -->\n",
       "<svg width=\"275pt\" height=\"1047pt\"\n",
       " viewBox=\"0.00 0.00 275.00 1047.00\" xmlns=\"http://www.w3.org/2000/svg\" xmlns:xlink=\"http://www.w3.org/1999/xlink\">\n",
       "<g id=\"graph0\" class=\"graph\" transform=\"scale(1 1) rotate(0) translate(4 1043)\">\n",
       "<title>plot</title>\n",
       "<polygon fill=\"white\" stroke=\"none\" points=\"-4,4 -4,-1043 271,-1043 271,4 -4,4\"/>\n",
       "<!-- data -->\n",
       "<g id=\"node1\" class=\"node\"><title>data</title>\n",
       "<ellipse fill=\"#8dd3c7\" stroke=\"black\" cx=\"47\" cy=\"-29\" rx=\"47\" ry=\"29\"/>\n",
       "<text text-anchor=\"middle\" x=\"47\" y=\"-25.3\" font-family=\"Times,serif\" font-size=\"14.00\">data</text>\n",
       "</g>\n",
       "<!-- flatten37 -->\n",
       "<g id=\"node2\" class=\"node\"><title>flatten37</title>\n",
       "<polygon fill=\"#fdb462\" stroke=\"black\" points=\"94,-167 -7.10543e-15,-167 -7.10543e-15,-109 94,-109 94,-167\"/>\n",
       "<text text-anchor=\"middle\" x=\"47\" y=\"-134.3\" font-family=\"Times,serif\" font-size=\"14.00\">flatten37</text>\n",
       "</g>\n",
       "<!-- flatten37&#45;&gt;data -->\n",
       "<g id=\"edge1\" class=\"edge\"><title>flatten37&#45;&gt;data</title>\n",
       "<path fill=\"none\" stroke=\"black\" d=\"M47,-98.5824C47,-85.2841 47,-70.632 47,-58.2967\"/>\n",
       "<polygon fill=\"black\" stroke=\"black\" points=\"47,-108.887 42.5001,-98.887 47,-103.887 47.0001,-98.887 47.0001,-98.887 47.0001,-98.887 47,-103.887 51.5001,-98.8871 47,-108.887 47,-108.887\"/>\n",
       "<text text-anchor=\"middle\" x=\"77.5\" y=\"-79.8\" font-family=\"Times,serif\" font-size=\"14.00\">1x11x1201</text>\n",
       "</g>\n",
       "<!-- fc1 -->\n",
       "<g id=\"node3\" class=\"node\"><title>fc1</title>\n",
       "<polygon fill=\"#fb8072\" stroke=\"black\" points=\"94,-276 -7.10543e-15,-276 -7.10543e-15,-218 94,-218 94,-276\"/>\n",
       "<text text-anchor=\"middle\" x=\"47\" y=\"-250.8\" font-family=\"Times,serif\" font-size=\"14.00\">FullyConnected</text>\n",
       "<text text-anchor=\"middle\" x=\"47\" y=\"-235.8\" font-family=\"Times,serif\" font-size=\"14.00\">512</text>\n",
       "</g>\n",
       "<!-- fc1&#45;&gt;flatten37 -->\n",
       "<g id=\"edge2\" class=\"edge\"><title>fc1&#45;&gt;flatten37</title>\n",
       "<path fill=\"none\" stroke=\"black\" d=\"M47,-207.582C47,-194.284 47,-179.632 47,-167.297\"/>\n",
       "<polygon fill=\"black\" stroke=\"black\" points=\"47,-217.887 42.5001,-207.887 47,-212.887 47.0001,-207.887 47.0001,-207.887 47.0001,-207.887 47,-212.887 51.5001,-207.887 47,-217.887 47,-217.887\"/>\n",
       "<text text-anchor=\"middle\" x=\"64\" y=\"-188.8\" font-family=\"Times,serif\" font-size=\"14.00\">13211</text>\n",
       "</g>\n",
       "<!-- relu1 -->\n",
       "<g id=\"node4\" class=\"node\"><title>relu1</title>\n",
       "<polygon fill=\"#ffffb3\" stroke=\"black\" points=\"155,-385 61,-385 61,-327 155,-327 155,-385\"/>\n",
       "<text text-anchor=\"middle\" x=\"108\" y=\"-359.8\" font-family=\"Times,serif\" font-size=\"14.00\">Activation</text>\n",
       "<text text-anchor=\"middle\" x=\"108\" y=\"-344.8\" font-family=\"Times,serif\" font-size=\"14.00\">relu</text>\n",
       "</g>\n",
       "<!-- relu1&#45;&gt;fc1 -->\n",
       "<g id=\"edge3\" class=\"edge\"><title>relu1&#45;&gt;fc1</title>\n",
       "<path fill=\"none\" stroke=\"black\" d=\"M82.5318,-318.144C80.6095,-315.082 78.7423,-312.008 77,-309 70.907,-298.482 64.8605,-286.552 59.8095,-276.051\"/>\n",
       "<polygon fill=\"black\" stroke=\"black\" points=\"88.0371,-326.675 78.8339,-320.713 85.3261,-322.474 82.615,-318.273 82.615,-318.273 82.615,-318.273 85.3261,-322.474 86.3961,-315.833 88.0371,-326.675 88.0371,-326.675\"/>\n",
       "<text text-anchor=\"middle\" x=\"87.5\" y=\"-297.8\" font-family=\"Times,serif\" font-size=\"14.00\">512</text>\n",
       "</g>\n",
       "<!-- fc1a -->\n",
       "<g id=\"node5\" class=\"node\"><title>fc1a</title>\n",
       "<polygon fill=\"#fb8072\" stroke=\"black\" points=\"206,-276 112,-276 112,-218 206,-218 206,-276\"/>\n",
       "<text text-anchor=\"middle\" x=\"159\" y=\"-250.8\" font-family=\"Times,serif\" font-size=\"14.00\">FullyConnected</text>\n",
       "<text text-anchor=\"middle\" x=\"159\" y=\"-235.8\" font-family=\"Times,serif\" font-size=\"14.00\">1024</text>\n",
       "</g>\n",
       "<!-- relu1&#45;&gt;fc1a -->\n",
       "<g id=\"edge5\" class=\"edge\"><title>relu1&#45;&gt;fc1a</title>\n",
       "<path fill=\"none\" stroke=\"black\" d=\"M100.618,-316.827C100.604,-309.009 101.755,-301.028 105,-294 108.046,-287.403 112.557,-281.404 117.694,-276.077\"/>\n",
       "<polygon fill=\"black\" stroke=\"black\" points=\"101.228,-326.918 96.1327,-317.207 100.926,-321.927 100.625,-316.936 100.625,-316.936 100.625,-316.936 100.926,-321.927 105.116,-316.664 101.228,-326.918 101.228,-326.918\"/>\n",
       "<text text-anchor=\"middle\" x=\"119\" y=\"-297.8\" font-family=\"Times,serif\" font-size=\"14.00\">1024</text>\n",
       "</g>\n",
       "<!-- fc1a&#45;&gt;relu1 -->\n",
       "<g id=\"edge4\" class=\"edge\"><title>fc1a&#45;&gt;relu1</title>\n",
       "<path fill=\"none\" stroke=\"black\" d=\"M146.806,-285.814C143.892,-293.611 140.578,-301.674 137,-309 134.1,-314.938 130.617,-321.068 127.088,-326.841\"/>\n",
       "<polygon fill=\"black\" stroke=\"black\" points=\"150.271,-276.157 151.129,-287.089 148.583,-280.863 146.894,-285.569 146.894,-285.569 146.894,-285.569 148.583,-280.863 142.658,-284.049 150.271,-276.157 150.271,-276.157\"/>\n",
       "<text text-anchor=\"middle\" x=\"158\" y=\"-297.8\" font-family=\"Times,serif\" font-size=\"14.00\">1024</text>\n",
       "</g>\n",
       "<!-- fc2 -->\n",
       "<g id=\"node6\" class=\"node\"><title>fc2</title>\n",
       "<polygon fill=\"#fb8072\" stroke=\"black\" points=\"155,-494 61,-494 61,-436 155,-436 155,-494\"/>\n",
       "<text text-anchor=\"middle\" x=\"108\" y=\"-468.8\" font-family=\"Times,serif\" font-size=\"14.00\">FullyConnected</text>\n",
       "<text text-anchor=\"middle\" x=\"108\" y=\"-453.8\" font-family=\"Times,serif\" font-size=\"14.00\">256</text>\n",
       "</g>\n",
       "<!-- fc2&#45;&gt;relu1 -->\n",
       "<g id=\"edge6\" class=\"edge\"><title>fc2&#45;&gt;relu1</title>\n",
       "<path fill=\"none\" stroke=\"black\" d=\"M108,-425.582C108,-412.284 108,-397.632 108,-385.297\"/>\n",
       "<polygon fill=\"black\" stroke=\"black\" points=\"108,-435.887 103.5,-425.887 108,-430.887 108,-425.887 108,-425.887 108,-425.887 108,-430.887 112.5,-425.887 108,-435.887 108,-435.887\"/>\n",
       "<text text-anchor=\"middle\" x=\"122\" y=\"-406.8\" font-family=\"Times,serif\" font-size=\"14.00\">1024</text>\n",
       "</g>\n",
       "<!-- relu2 -->\n",
       "<g id=\"node7\" class=\"node\"><title>relu2</title>\n",
       "<polygon fill=\"#ffffb3\" stroke=\"black\" points=\"155,-603 61,-603 61,-545 155,-545 155,-603\"/>\n",
       "<text text-anchor=\"middle\" x=\"108\" y=\"-577.8\" font-family=\"Times,serif\" font-size=\"14.00\">Activation</text>\n",
       "<text text-anchor=\"middle\" x=\"108\" y=\"-562.8\" font-family=\"Times,serif\" font-size=\"14.00\">relu</text>\n",
       "</g>\n",
       "<!-- relu2&#45;&gt;fc2 -->\n",
       "<g id=\"edge7\" class=\"edge\"><title>relu2&#45;&gt;fc2</title>\n",
       "<path fill=\"none\" stroke=\"black\" d=\"M108,-534.582C108,-521.284 108,-506.632 108,-494.297\"/>\n",
       "<polygon fill=\"black\" stroke=\"black\" points=\"108,-544.887 103.5,-534.887 108,-539.887 108,-534.887 108,-534.887 108,-534.887 108,-539.887 112.5,-534.887 108,-544.887 108,-544.887\"/>\n",
       "<text text-anchor=\"middle\" x=\"118.5\" y=\"-515.8\" font-family=\"Times,serif\" font-size=\"14.00\">256</text>\n",
       "</g>\n",
       "<!-- fc2a -->\n",
       "<g id=\"node8\" class=\"node\"><title>fc2a</title>\n",
       "<polygon fill=\"#fb8072\" stroke=\"black\" points=\"155,-712 61,-712 61,-654 155,-654 155,-712\"/>\n",
       "<text text-anchor=\"middle\" x=\"108\" y=\"-686.8\" font-family=\"Times,serif\" font-size=\"14.00\">FullyConnected</text>\n",
       "<text text-anchor=\"middle\" x=\"108\" y=\"-671.8\" font-family=\"Times,serif\" font-size=\"14.00\">16</text>\n",
       "</g>\n",
       "<!-- fc2a&#45;&gt;relu2 -->\n",
       "<g id=\"edge8\" class=\"edge\"><title>fc2a&#45;&gt;relu2</title>\n",
       "<path fill=\"none\" stroke=\"black\" d=\"M108,-643.582C108,-630.284 108,-615.632 108,-603.297\"/>\n",
       "<polygon fill=\"black\" stroke=\"black\" points=\"108,-653.887 103.5,-643.887 108,-648.887 108,-643.887 108,-643.887 108,-643.887 108,-648.887 112.5,-643.887 108,-653.887 108,-653.887\"/>\n",
       "<text text-anchor=\"middle\" x=\"118.5\" y=\"-624.8\" font-family=\"Times,serif\" font-size=\"14.00\">256</text>\n",
       "</g>\n",
       "<!-- relu2a -->\n",
       "<g id=\"node9\" class=\"node\"><title>relu2a</title>\n",
       "<polygon fill=\"#ffffb3\" stroke=\"black\" points=\"155,-821 61,-821 61,-763 155,-763 155,-821\"/>\n",
       "<text text-anchor=\"middle\" x=\"108\" y=\"-795.8\" font-family=\"Times,serif\" font-size=\"14.00\">Activation</text>\n",
       "<text text-anchor=\"middle\" x=\"108\" y=\"-780.8\" font-family=\"Times,serif\" font-size=\"14.00\">relu</text>\n",
       "</g>\n",
       "<!-- relu2a&#45;&gt;fc2a -->\n",
       "<g id=\"edge9\" class=\"edge\"><title>relu2a&#45;&gt;fc2a</title>\n",
       "<path fill=\"none\" stroke=\"black\" d=\"M108,-752.582C108,-739.284 108,-724.632 108,-712.297\"/>\n",
       "<polygon fill=\"black\" stroke=\"black\" points=\"108,-762.887 103.5,-752.887 108,-757.887 108,-752.887 108,-752.887 108,-752.887 108,-757.887 112.5,-752.887 108,-762.887 108,-762.887\"/>\n",
       "<text text-anchor=\"middle\" x=\"115\" y=\"-733.8\" font-family=\"Times,serif\" font-size=\"14.00\">16</text>\n",
       "</g>\n",
       "<!-- fc3 -->\n",
       "<g id=\"node10\" class=\"node\"><title>fc3</title>\n",
       "<polygon fill=\"#fb8072\" stroke=\"black\" points=\"155,-930 61,-930 61,-872 155,-872 155,-930\"/>\n",
       "<text text-anchor=\"middle\" x=\"108\" y=\"-904.8\" font-family=\"Times,serif\" font-size=\"14.00\">FullyConnected</text>\n",
       "<text text-anchor=\"middle\" x=\"108\" y=\"-889.8\" font-family=\"Times,serif\" font-size=\"14.00\">4</text>\n",
       "</g>\n",
       "<!-- fc3&#45;&gt;relu2a -->\n",
       "<g id=\"edge10\" class=\"edge\"><title>fc3&#45;&gt;relu2a</title>\n",
       "<path fill=\"none\" stroke=\"black\" d=\"M108,-861.582C108,-848.284 108,-833.632 108,-821.297\"/>\n",
       "<polygon fill=\"black\" stroke=\"black\" points=\"108,-871.887 103.5,-861.887 108,-866.887 108,-861.887 108,-861.887 108,-861.887 108,-866.887 112.5,-861.887 108,-871.887 108,-871.887\"/>\n",
       "<text text-anchor=\"middle\" x=\"115\" y=\"-842.8\" font-family=\"Times,serif\" font-size=\"14.00\">16</text>\n",
       "</g>\n",
       "<!-- softmax_label -->\n",
       "<g id=\"node11\" class=\"node\"><title>softmax_label</title>\n",
       "<ellipse fill=\"#8dd3c7\" stroke=\"black\" cx=\"220\" cy=\"-901\" rx=\"47\" ry=\"29\"/>\n",
       "<text text-anchor=\"middle\" x=\"220\" y=\"-897.3\" font-family=\"Times,serif\" font-size=\"14.00\">softmax_label</text>\n",
       "</g>\n",
       "<!-- softmax -->\n",
       "<g id=\"node12\" class=\"node\"><title>softmax</title>\n",
       "<polygon fill=\"#fccde5\" stroke=\"black\" points=\"233,-1039 139,-1039 139,-981 233,-981 233,-1039\"/>\n",
       "<text text-anchor=\"middle\" x=\"186\" y=\"-1006.3\" font-family=\"Times,serif\" font-size=\"14.00\">softmax</text>\n",
       "</g>\n",
       "<!-- softmax&#45;&gt;fc3 -->\n",
       "<g id=\"edge11\" class=\"edge\"><title>softmax&#45;&gt;fc3</title>\n",
       "<path fill=\"none\" stroke=\"black\" d=\"M159.427,-972.547C149.362,-958.741 138.065,-943.243 128.628,-930.297\"/>\n",
       "<polygon fill=\"black\" stroke=\"black\" points=\"165.506,-980.887 155.979,-975.457 162.561,-976.847 159.616,-972.806 159.616,-972.806 159.616,-972.806 162.561,-976.847 163.252,-970.155 165.506,-980.887 165.506,-980.887\"/>\n",
       "<text text-anchor=\"middle\" x=\"155.5\" y=\"-951.8\" font-family=\"Times,serif\" font-size=\"14.00\">4</text>\n",
       "</g>\n",
       "<!-- softmax&#45;&gt;softmax_label -->\n",
       "<g id=\"edge12\" class=\"edge\"><title>softmax&#45;&gt;softmax_label</title>\n",
       "<path fill=\"none\" stroke=\"black\" d=\"M198.007,-971.215C202.37,-957.483 207.215,-942.236 211.244,-929.555\"/>\n",
       "<polygon fill=\"black\" stroke=\"black\" points=\"194.933,-980.887 193.673,-969.994 196.447,-976.122 197.962,-971.357 197.962,-971.357 197.962,-971.357 196.447,-976.122 202.25,-972.719 194.933,-980.887 194.933,-980.887\"/>\n",
       "</g>\n",
       "</g>\n",
       "</svg>\n"
      ],
      "text/plain": [
       "<graphviz.dot.Digraph at 0x7f69eff1b898>"
      ]
     },
     "execution_count": 332,
     "metadata": {},
     "output_type": "execute_result"
    }
   ],
   "source": [
    "# Create a place holder variable for the input data\n",
    "data = mx.sym.Variable('data')\n",
    "# Flatten the data from 4-D shape (batch_size, num_channel, width, height) \n",
    "# into 2-D (batch_size, num_channel*width*height)\n",
    "data = mx.sym.Flatten(data=data)\n",
    "\n",
    "# The first fully-connected layer\n",
    "fc1  = mx.sym.FullyConnected(data=data, name='fc1', num_hidden=512)\n",
    "# Apply relu to the output of the first fully-connnected layer\n",
    "act1 = mx.sym.Activation(data=fc1, name='relu1', act_type=\"relu\")\n",
    "\n",
    "# The first fully-connected layer\n",
    "fc1a  = mx.sym.FullyConnected(data=act1, name='fc1a', num_hidden=1024)\n",
    "# Apply relu to the output of the first fully-connnected layer\n",
    "act1a = mx.sym.Activation(data=fc1a, name='relu1', act_type=\"relu\")\n",
    "\n",
    "# The second fully-connected layer and the according activation function\n",
    "fc2  = mx.sym.FullyConnected(data=act1a, name='fc2', num_hidden = 256)\n",
    "act2 = mx.sym.Activation(data=fc2, name='relu2', act_type=\"relu\")\n",
    "\n",
    "# The second fully-connected layer and the according activation function\n",
    "fc2a  = mx.sym.FullyConnected(data=act2, name='fc2a', num_hidden = 16)\n",
    "act2a = mx.sym.Activation(data=fc2a, name='relu2a', act_type=\"relu\")\n",
    "\n",
    "# The thrid fully-connected layer, note that the hidden size should be 10, which is the number of unique digits\n",
    "fc3  = mx.sym.FullyConnected(data=act2a, name='fc3', num_hidden=len(np.unique(labelrand)))\n",
    "# The softmax and loss layer\n",
    "mlp  = mx.sym.SoftmaxOutput(data=fc3, name='softmax')\n",
    "\n",
    "# We visualize the network structure with output size (the batch_size is ignored.)\n",
    "shape = {\"data\" : (batch_size, 1, allmat.shape[1], allmat.shape[2])}\n",
    "mx.viz.plot_network(symbol=mlp, shape=shape)"
   ]
  },
  {
   "cell_type": "code",
   "execution_count": 333,
   "metadata": {
    "collapsed": false,
    "deletable": true,
    "editable": true,
    "scrolled": true
   },
   "outputs": [
    {
     "name": "stderr",
     "output_type": "stream",
     "text": [
      "/anaconda/envs/py35/lib/python3.5/site-packages/ipykernel/__main__.py:8: DeprecationWarning: \u001b[91mmxnet.model.FeedForward has been deprecated. Please use mxnet.mod.Module instead.\u001b[0m\n",
      "/anaconda/envs/py35/lib/python3.5/site-packages/mxnet-0.9.5-py3.5.egg/mxnet/model.py:516: DeprecationWarning: \u001b[91mCalling initializer with init(str, NDArray) has been deprecated.please use init(mx.init.InitDesc(...), NDArray) instead.\u001b[0m\n",
      "  self.initializer(k, v)\n",
      "INFO:root:Start training with [gpu(0)]\n",
      "INFO:root:Epoch[0] Resetting Data Iterator\n",
      "INFO:root:Epoch[0] Time cost=0.350\n",
      "INFO:root:Epoch[0] Validation-accuracy=0.412000\n",
      "INFO:root:Epoch[1] Resetting Data Iterator\n",
      "INFO:root:Epoch[1] Time cost=0.276\n",
      "INFO:root:Epoch[1] Validation-accuracy=0.412000\n",
      "INFO:root:Epoch[2] Resetting Data Iterator\n",
      "INFO:root:Epoch[2] Time cost=0.180\n",
      "INFO:root:Epoch[2] Validation-accuracy=0.412000\n",
      "INFO:root:Epoch[3] Resetting Data Iterator\n",
      "INFO:root:Epoch[3] Time cost=0.217\n",
      "INFO:root:Epoch[3] Validation-accuracy=0.412000\n",
      "INFO:root:Epoch[4] Resetting Data Iterator\n",
      "INFO:root:Epoch[4] Time cost=0.215\n",
      "INFO:root:Epoch[4] Validation-accuracy=0.412000\n",
      "INFO:root:Epoch[5] Resetting Data Iterator\n",
      "INFO:root:Epoch[5] Time cost=0.215\n",
      "INFO:root:Epoch[5] Validation-accuracy=0.412000\n",
      "INFO:root:Epoch[6] Resetting Data Iterator\n",
      "INFO:root:Epoch[6] Time cost=0.221\n",
      "INFO:root:Epoch[6] Validation-accuracy=0.412000\n",
      "INFO:root:Epoch[7] Resetting Data Iterator\n",
      "INFO:root:Epoch[7] Time cost=0.219\n",
      "INFO:root:Epoch[7] Validation-accuracy=0.412000\n",
      "INFO:root:Epoch[8] Resetting Data Iterator\n",
      "INFO:root:Epoch[8] Time cost=0.218\n",
      "INFO:root:Epoch[8] Validation-accuracy=0.412000\n",
      "INFO:root:Epoch[9] Resetting Data Iterator\n",
      "INFO:root:Epoch[9] Time cost=0.219\n",
      "INFO:root:Epoch[9] Validation-accuracy=0.412000\n"
     ]
    }
   ],
   "source": [
    "import logging\n",
    "logging.getLogger().setLevel(logging.DEBUG)\n",
    "\n",
    "model = mx.model.FeedForward(\n",
    "    ctx=mx.gpu(0),\n",
    "    symbol = mlp,       # network structure\n",
    "    num_epoch = 10,     # number of data passes for training \n",
    "    learning_rate = 0.2 # learning rate of SGD \n",
    ")\n",
    "model.fit(\n",
    "    X=train_iter,       # training data\n",
    "    eval_data=val_iter # validation data\n",
    ")"
   ]
  },
  {
   "cell_type": "code",
   "execution_count": 329,
   "metadata": {
    "collapsed": false,
    "deletable": true,
    "editable": true
   },
   "outputs": [
    {
     "name": "stdout",
     "output_type": "stream",
     "text": [
      "Classified as 1 with probability 0.410985\n",
      "Actual label: 2\n"
     ]
    },
    {
     "data": {
      "image/png": "[encoded data removed]",
      "text/plain": [
       "<matplotlib.figure.Figure at 0x7f6a342f3588>"
      ]
     },
     "metadata": {},
     "output_type": "display_data"
    }
   ],
   "source": [
    "index=np.random.choice(datarand.shape[0])\n",
    "plt.pcolor(datarand[index], cmap='gray')\n",
    "plt.axis('off')\n",
    "\n",
    "prob = model.predict(to4d(datarand[index]))[0]\n",
    "#assert max(prob) > 0.99, \"Low prediction accuracy.\"\n",
    "print ('Classified as %d with probability %f' % (prob.argmax(), max(prob)))\n",
    "print('Actual label: %d' % labelrand[index])\n",
    "\n"
   ]
  },
  {
   "cell_type": "code",
   "execution_count": 334,
   "metadata": {
    "collapsed": false,
    "deletable": true,
    "editable": true
   },
   "outputs": [
    {
     "name": "stdout",
     "output_type": "stream",
     "text": [
      "Accuracy Score: 0.4125\n"
     ]
    },
    {
     "data": {
      "image/png": "[encoded data removed]",
      "text/plain": [
       "<matplotlib.figure.Figure at 0x7f69eff84828>"
      ]
     },
     "metadata": {},
     "output_type": "display_data"
    }
   ],
   "source": [
    "from sklearn.metrics import confusion_matrix\n",
    "\n",
    "\n",
    "prob = model.predict(to4d(test_features))\n",
    "\n",
    "y_pred = np.argmax(prob,axis=1)\n",
    "\n",
    "def show_confusion_matrix(cnf_matrix, class_labels):\n",
    "    plt.matshow(cnf_matrix,cmap=plt.cm.YlGn,alpha=0.7)\n",
    "    ax = plt.gca()\n",
    "    ax.set_xlabel('Predicted Label', fontsize=16)\n",
    "    ax.set_xticks(range(0,len(class_labels)))\n",
    "    ax.set_xticklabels(class_labels)\n",
    "    ax.set_ylabel('Actual Label', fontsize=16, rotation=90)\n",
    "    ax.set_yticks(range(0,len(class_labels)))\n",
    "    ax.set_yticklabels(class_labels)\n",
    "    ax.xaxis.set_label_position('top')\n",
    "    ax.xaxis.tick_top()\n",
    "\n",
    "    for row in range(len(cnf_matrix)):\n",
    "        for col in range(len(cnf_matrix[row])):\n",
    "            ax.text(col, row, cnf_matrix[row][col], va='center', ha='center', fontsize=16)\n",
    "\n",
    "\n",
    "cnf_matrix = confusion_matrix(test_labels, y_pred)\n",
    "show_confusion_matrix(cnf_matrix,np.unique(labelrand))\n",
    "acc_score = metrics.accuracy_score(test_labels, y_pred)\n",
    "\n",
    "print(\"Accuracy Score: {}\".format(acc_score))"
   ]
  },
  {
   "cell_type": "code",
   "execution_count": null,
   "metadata": {
    "collapsed": true,
    "deletable": true,
    "editable": true
   },
   "outputs": [],
   "source": []
  }
 ],
 "metadata": {
  "kernelspec": {
   "display_name": "Python 3",
   "language": "python",
   "name": "python3"
  },
  "language_info": {
   "codemirror_mode": {
    "name": "ipython",
    "version": 3
   },
   "file_extension": ".py",
   "mimetype": "text/x-python",
   "name": "python",
   "nbconvert_exporter": "python",
   "pygments_lexer": "ipython3",
   "version": "3.6.0"
  }
 },
 "nbformat": 4,
 "nbformat_minor": 2
}

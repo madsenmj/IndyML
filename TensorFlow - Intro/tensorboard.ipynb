{
 "cells": [
  {
   "cell_type": "code",
   "execution_count": 1,
   "metadata": {
    "collapsed": true
   },
   "outputs": [],
   "source": [
    "import numpy as np\n",
    "import tensorflow as tf\n",
    "import matplotlib.pyplot as plt\n",
    "import os\n",
    "\n",
    "pth_log = os.getcwd() + '/logs/nodes_30'\n",
    "n_nodes = 30\n",
    "\n",
    "%matplotlib inline"
   ]
  },
  {
   "cell_type": "code",
   "execution_count": 2,
   "metadata": {
    "collapsed": true
   },
   "outputs": [],
   "source": [
    "# create data\n",
    "x_data = np.linspace(-1,1,300)[:, np.newaxis]\n",
    "noise = np.random.normal(0, 0.05, x_data.shape)\n",
    "y_data = np.square(x_data) - 0.5 + noise"
   ]
  },
  {
   "cell_type": "code",
   "execution_count": 3,
   "metadata": {
    "collapsed": true
   },
   "outputs": [],
   "source": [
    "def fc_layer(input, size_in, size_out, activation_function=None, name='fc'):\n",
    "    with tf.name_scope(name):\n",
    "        w = tf.Variable(tf.random_normal([size_in, size_out]), name='weight')\n",
    "        b = tf.Variable(tf.constant(0.1, shape=[size_out]), name='bias')\n",
    "        w_b = tf.matmul(input, w) + b\n",
    "        \n",
    "        # stores the values for the log\n",
    "        tf.summary.histogram('weight', w)\n",
    "        tf.summary.histogram('bias', b)\n",
    "\n",
    "        if activation_function is None:\n",
    "            outputs = w_b\n",
    "        else:\n",
    "            outputs = activation_function(w_b)\n",
    "\n",
    "        return outputs"
   ]
  },
  {
   "cell_type": "code",
   "execution_count": 4,
   "metadata": {
    "collapsed": true
   },
   "outputs": [],
   "source": [
    "# starts the tensorflow stuff\n",
    "x = tf.placeholder(tf.float32, [None, 1], name='x')\n",
    "y = tf.placeholder(tf.float32, [None, 1], name='y')"
   ]
  },
  {
   "cell_type": "code",
   "execution_count": 5,
   "metadata": {
    "collapsed": true
   },
   "outputs": [],
   "source": [
    "# make the layers\n",
    "l1 = fc_layer(x, 1, n_nodes, activation_function=tf.nn.relu, name='layer_1')\n",
    "preds = fc_layer(l1, n_nodes, 1, name='final_layer')\n",
    "\n",
    "# get the error\n",
    "with tf.name_scope('train_and_accuracy'):\n",
    "    error = tf.reduce_mean(tf.reduce_sum(tf.square(y - preds), reduction_indices=[1]))\n",
    "    tf.summary.scalar('error', error)\n",
    "    train_step = tf.train.GradientDescentOptimizer(0.01).minimize(error)"
   ]
  },
  {
   "cell_type": "code",
   "execution_count": 6,
   "metadata": {
    "collapsed": true
   },
   "outputs": [],
   "source": [
    "# initializes the variables and starts the session\n",
    "summ = tf.summary.merge_all()\n",
    "\n",
    "sess = tf.Session()\n",
    "sess.run(tf.global_variables_initializer())\n",
    "\n",
    "writer = tf.summary.FileWriter(pth_log)\n",
    "writer.add_graph(sess.graph)"
   ]
  },
  {
   "cell_type": "code",
   "execution_count": 7,
   "metadata": {
    "scrolled": true
   },
   "outputs": [
    {
     "name": "stdout",
     "output_type": "stream",
     "text": [
      "Step: 0 \n",
      "Error: 0.32319\n",
      "Step: 100 \n",
      "Error: 0.0127578\n",
      "Step: 200 \n",
      "Error: 0.00713351\n",
      "Step: 300 \n",
      "Error: 0.0059626\n",
      "Step: 400 \n",
      "Error: 0.00538429\n",
      "Step: 500 \n",
      "Error: 0.00497008\n",
      "Step: 600 \n",
      "Error: 0.00463074\n",
      "Step: 700 \n",
      "Error: 0.00436083\n",
      "Step: 800 \n",
      "Error: 0.00415576\n",
      "Step: 900 \n",
      "Error: 0.00400228\n",
      "Step: 1000 \n",
      "Error: 0.00388637\n",
      "Step: 1100 \n",
      "Error: 0.00378781\n",
      "Step: 1200 \n",
      "Error: 0.00371414\n",
      "Step: 1300 \n",
      "Error: 0.00365248\n",
      "Step: 1400 \n",
      "Error: 0.00359637\n",
      "Step: 1500 \n",
      "Error: 0.00354608\n",
      "Step: 1600 \n",
      "Error: 0.003504\n",
      "Step: 1700 \n",
      "Error: 0.00347033\n",
      "Step: 1800 \n",
      "Error: 0.00343444\n",
      "Step: 1900 \n",
      "Error: 0.00340277\n",
      "Step: 2000 \n",
      "Error: 0.00337701\n",
      "Step: 2100 \n",
      "Error: 0.00335215\n",
      "Step: 2200 \n",
      "Error: 0.0033331\n",
      "Step: 2300 \n",
      "Error: 0.00331685\n",
      "Step: 2400 \n",
      "Error: 0.00330201\n",
      "Step: 2500 \n",
      "Error: 0.00328857\n",
      "Step: 2600 \n",
      "Error: 0.00327614\n",
      "Step: 2700 \n",
      "Error: 0.00326648\n",
      "Step: 2800 \n",
      "Error: 0.00325837\n",
      "Step: 2900 \n",
      "Error: 0.00325073\n",
      "Step: 3000 \n",
      "Error: 0.00324251\n",
      "Step: 3100 \n",
      "Error: 0.00323488\n",
      "Step: 3200 \n",
      "Error: 0.00322827\n",
      "Step: 3300 \n",
      "Error: 0.00322099\n",
      "Step: 3400 \n",
      "Error: 0.003213\n",
      "Step: 3500 \n",
      "Error: 0.00320587\n",
      "Step: 3600 \n",
      "Error: 0.00319932\n",
      "Step: 3700 \n",
      "Error: 0.00319319\n",
      "Step: 3800 \n",
      "Error: 0.0031873\n",
      "Step: 3900 \n",
      "Error: 0.00318055\n",
      "Step: 4000 \n",
      "Error: 0.00317439\n",
      "Step: 4100 \n",
      "Error: 0.00316863\n",
      "Step: 4200 \n",
      "Error: 0.00316317\n",
      "Step: 4300 \n",
      "Error: 0.00315662\n",
      "Step: 4400 \n",
      "Error: 0.00314987\n",
      "Step: 4500 \n",
      "Error: 0.00314355\n",
      "Step: 4600 \n",
      "Error: 0.0031374\n",
      "Step: 4700 \n",
      "Error: 0.00312998\n",
      "Step: 4800 \n",
      "Error: 0.0031234\n",
      "Step: 4900 \n",
      "Error: 0.00311745\n"
     ]
    }
   ],
   "source": [
    "for i in range(5000):\n",
    "    sess.run(train_step, feed_dict={x: x_data, y: y_data})\n",
    "    \n",
    "    if i % 100 == 0:\n",
    "        [step_error, s] = sess.run([error, summ], feed_dict={x: x_data, y: y_data})\n",
    "        writer.add_summary(s, i)\n",
    "        print('Step: %d \\nError: %s' % (i, step_error))\n",
    "    \n",
    "#     if i % 500 == 0:\n",
    "#         step_error = sess.run(error, feed_dict={x: x_data, y: y_data})\n",
    "#         print('Step: %d' % i)\n",
    "#         print(step_error)\n",
    "        "
   ]
  },
  {
   "cell_type": "code",
   "execution_count": 8,
   "metadata": {},
   "outputs": [
    {
     "data": {
      "image/png": "[encoded data removed]",
      "text/plain": [
       "<matplotlib.figure.Figure at 0x7ff728b7e860>"
      ]
     },
     "metadata": {},
     "output_type": "display_data"
    }
   ],
   "source": [
    "# plot the results\n",
    "y_hat = sess.run(preds, feed_dict={x: x_data, y: y_data})\n",
    "plt.scatter(x_data, y_data)\n",
    "plt.plot(x_data, y_hat, color='red')\n",
    "plt.show()"
   ]
  }
 ],
 "metadata": {
  "kernelspec": {
   "display_name": "Python 3",
   "language": "python",
   "name": "python3"
  },
  "language_info": {
   "codemirror_mode": {
    "name": "ipython",
    "version": 3
   },
   "file_extension": ".py",
   "mimetype": "text/x-python",
   "name": "python",
   "nbconvert_exporter": "python",
   "pygments_lexer": "ipython3",
   "version": "3.6.0"
  }
 },
 "nbformat": 4,
 "nbformat_minor": 2
}
